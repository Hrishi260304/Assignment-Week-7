{
 "cells": [
  {
   "cell_type": "markdown",
   "id": "4d507b54-7725-4d80-a3f7-1bfa2b822202",
   "metadata": {},
   "source": [
    "# Develop a web application using Streamlit to deploy a trained machine learning model. The app should allow users to input data, receive predictions, and understand model outputs through visualizations. This task will help you learn how to make your models accessible and interactive."
   ]
  },
  {
   "cell_type": "code",
   "execution_count": 5,
   "id": "bd09692e-834b-4662-a62f-92905340a2f2",
   "metadata": {},
   "outputs": [
    {
     "name": "stderr",
     "output_type": "stream",
     "text": [
      "2025-07-20 21:36:46.903 No runtime found, using MemoryCacheStorageManager\n"
     ]
    },
    {
     "data": {
      "text/plain": [
       "DeltaGenerator()"
      ]
     },
     "execution_count": 5,
     "metadata": {},
     "output_type": "execute_result"
    }
   ],
   "source": [
    "# -- coding: utf-8 --\n",
    "\"\"\"Celebal_week_7_assignment\n",
    "\n",
    "Original file is located at\n",
    "    https://colab.research.google.com/drive/1Jlz7lCkeCr7G3aENx2YmavtndqOIrq77\n",
    "\"\"\"\n",
    "\n",
    "pip install streamlit scikit-learn pandas matplotlib seaborn\n",
    "\n",
    "from sklearn.datasets import load_iris\n",
    "from sklearn.ensemble import RandomForestClassifier\n",
    "import pandas as pd\n",
    "import pickle\n",
    "\n",
    "iris = load_iris()\n",
    "X = pd.DataFrame(iris.data, columns=iris.feature_names)\n",
    "y = iris.target\n",
    "\n",
    "model = RandomForestClassifier()\n",
    "model.fit(X, y)\n",
    "\n",
    "with open(\"model.pkl\", \"wb\") as f:\n",
    "    pickle.dump(model, f)\n",
    "\n",
    "import streamlit as st\n",
    "import pandas as pd\n",
    "import numpy as np\n",
    "import pickle\n",
    "import seaborn as sns\n",
    "import matplotlib.pyplot as plt\n",
    "\n",
    "with open(\"model.pkl\", \"rb\") as f:\n",
    "    model = pickle.load(f)\n",
    "\n",
    "st.set_page_config(page_title=\"ML Model Deployment\", layout=\"centered\")\n",
    "st.title(\" Iris Species Predictor\")\n",
    "st.write(\"Input features below to predict the Iris flower species.\")\n",
    "\n",
    "sepal_length = st.slider(\"Sepal Length (cm)\", 4.0, 8.0, 5.1)\n",
    "sepal_width = st.slider(\"Sepal Width (cm)\", 2.0, 4.5, 3.5)\n",
    "petal_length = st.slider(\"Petal Length (cm)\", 1.0, 7.0, 1.4)\n",
    "petal_width = st.slider(\"Petal Width (cm)\", 0.1, 2.5, 0.2)\n",
    "\n",
    "input_data = pd.DataFrame([[sepal_length, sepal_width, petal_length, petal_width]],\n",
    "                          columns=['sepal length (cm)', 'sepal width (cm)',\n",
    "                                   'petal length (cm)', 'petal width (cm)'])\n",
    "\n",
    "if st.button(\"Predict\"):\n",
    "    prediction = model.predict(input_data)[0]\n",
    "    probas = model.predict_proba(input_data)[0]\n",
    "\n",
    "    target_names = ['Setosa', 'Versicolor', 'Virginica']\n",
    "    st.success(f\" Prediction: *{target_names[prediction]}*\")\n",
    "\n",
    "    st.subheader(\"Prediction Probabilities\")\n",
    "    proba_df = pd.DataFrame({\n",
    "        'Species': target_names,\n",
    "        'Probability': probas\n",
    "    })\n",
    "    st.bar_chart(proba_df.set_index('Species'))\n",
    "\n",
    "st.subheader(\" Model Feature Importances\")\n",
    "importances = model.feature_importances_\n",
    "feat_names = ['sepal length', 'sepal width', 'petal length', 'petal width']\n",
    "\n",
    "fig, ax = plt.subplots()\n",
    "sns.barplot(x=importances, y=feat_names, ax=ax)\n",
    "ax.set_title(\"Feature Importances\")\n",
    "st.pyplot(fig)"
   ]
  },
  {
   "cell_type": "code",
   "execution_count": null,
   "id": "b2ae06f6-adde-4943-8163-02f1c6c9d01e",
   "metadata": {},
   "outputs": [],
   "source": []
  },
  {
   "cell_type": "code",
   "execution_count": null,
   "id": "ce5156da-aa3b-46c6-9a5d-66e12de3a7f7",
   "metadata": {},
   "outputs": [],
   "source": []
  },
  {
   "cell_type": "code",
   "execution_count": null,
   "id": "f8c9c6b8-3c1d-40eb-9954-99ef149c16b5",
   "metadata": {},
   "outputs": [],
   "source": []
  },
  {
   "cell_type": "code",
   "execution_count": null,
   "id": "dd2e2ed4-6684-474a-b2f0-5dd7ab051a83",
   "metadata": {},
   "outputs": [],
   "source": []
  },
  {
   "cell_type": "code",
   "execution_count": null,
   "id": "3dfc5353-4237-49de-97e9-02e6c343c209",
   "metadata": {},
   "outputs": [],
   "source": []
  },
  {
   "cell_type": "code",
   "execution_count": null,
   "id": "fd844cda-eb88-4422-949f-f5f0d6bece2b",
   "metadata": {},
   "outputs": [],
   "source": []
  },
  {
   "cell_type": "code",
   "execution_count": null,
   "id": "63cbdf33-f2c7-4886-ad11-f350c9517969",
   "metadata": {},
   "outputs": [],
   "source": []
  },
  {
   "cell_type": "code",
   "execution_count": null,
   "id": "f16eb84a-aa99-4c6e-9af6-b066669a1682",
   "metadata": {},
   "outputs": [],
   "source": []
  },
  {
   "cell_type": "code",
   "execution_count": null,
   "id": "82e28c79-f186-45fd-9403-749ac42a8485",
   "metadata": {},
   "outputs": [],
   "source": []
  },
  {
   "cell_type": "code",
   "execution_count": null,
   "id": "537bebe0-d3b8-4a63-ae5f-4f4362efa6dd",
   "metadata": {},
   "outputs": [],
   "source": []
  }
 ],
 "metadata": {
  "kernelspec": {
   "display_name": "Python 3 (ipykernel)",
   "language": "python",
   "name": "python3"
  },
  "language_info": {
   "codemirror_mode": {
    "name": "ipython",
    "version": 3
   },
   "file_extension": ".py",
   "mimetype": "text/x-python",
   "name": "python",
   "nbconvert_exporter": "python",
   "pygments_lexer": "ipython3",
   "version": "3.12.4"
  }
 },
 "nbformat": 4,
 "nbformat_minor": 5
}
